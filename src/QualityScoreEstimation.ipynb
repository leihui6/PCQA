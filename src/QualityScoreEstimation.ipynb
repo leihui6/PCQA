{
 "cells": [
  {
   "cell_type": "code",
   "execution_count": 5,
   "id": "2b0675b1",
   "metadata": {},
   "outputs": [],
   "source": [
    "import sys  \n",
    "sys.path.insert(0, './utils')\n",
    "from pcqa_utils import *\n",
    "\n",
    "import time, glob\n",
    "from tqdm.notebook import tqdm\n",
    "from numpy import linalg as LA\n",
    "import matplotlib.pyplot as plt\n",
    "import matplotlib.pyplot as plt\n",
    "from scipy.spatial import ConvexHull\n",
    "from matplotlib.patches import Rectangle\n",
    "from sklearn.metrics import mean_squared_error\n",
    "\n",
    "# import warnings\n",
    "# warnings.filterwarnings('error')"
   ]
  },
  {
   "cell_type": "code",
   "execution_count": 6,
   "id": "5b07fa1a-df2b-4188-a91f-d59484c517d3",
   "metadata": {},
   "outputs": [],
   "source": [
    "def draw_mapping_result(grids, hull, minX, maxX, minY, maxY, width, height, draw_points):\n",
    "    fig = plt.figure(figsize=(8, 8))\n",
    "    ax = fig.add_subplot(111) \n",
    "    # draw the all rectangles\n",
    "    for gx in np.arange (minX, maxX, width):\n",
    "        for gy in np.arange (minY, maxY, height):\n",
    "            ax.add_patch(Rectangle([gx, gy], width, height, color='green', alpha = 0.1))\n",
    "    # draw points and convex\n",
    "    ax.scatter(draw_points[:, 0], draw_points[:, 1], s = 2, c='b', label = 'origina lPoints')\n",
    "    ax.plot(draw_points[hull.vertices,0], draw_points[hull.vertices,1], 'r--', lw=2)\n",
    "    ax.plot(draw_points[hull.vertices[0],0], draw_points[hull.vertices[0],1], 'ro')\n",
    "    plt.legend()\n",
    "    plt.show()\n",
    "    print (f'area: {hull.volume} and area of one grid is {width * height}')\n",
    "    print (f'we have roughly {np.around(hull.volume / (width * height))} grids in the scanning area.')\n"
   ]
  },
  {
   "cell_type": "markdown",
   "id": "6ac788b1-6e9f-49d7-9a39-dc352b09b682",
   "metadata": {},
   "source": [
    "# 1. PCQA"
   ]
  },
  {
   "cell_type": "code",
   "execution_count": 7,
   "id": "98558dd2",
   "metadata": {},
   "outputs": [
    {
     "name": "stdout",
     "output_type": "stream",
     "text": [
      "searchPointSize:256, gridnum_test_0:15\n"
     ]
    },
    {
     "data": {
      "application/vnd.jupyter.widget-view+json": {
       "model_id": "831e3e8657d3446cb4e54dc646534602",
       "version_major": 2,
       "version_minor": 0
      },
      "text/plain": [
       "  0%|          | 0/1 [00:00<?, ?it/s]"
      ]
     },
     "metadata": {},
     "output_type": "display_data"
    },
    {
     "name": "stdout",
     "output_type": "stream",
     "text": [
      "#0/1 filename: ./data/sample\n",
      "rawPoints data format: (7486, 3)\n",
      "normals data format: (7486, 3)\n",
      "betas data format: (7486, 10)\n",
      "623 points will be calculated, it takes 8.3%\n"
     ]
    },
    {
     "data": {
      "application/vnd.jupyter.widget-view+json": {
       "model_id": "042cb3cb73174ee894b971ac1b4f3ea4",
       "version_major": 2,
       "version_minor": 0
      },
      "text/plain": [
       "  0%|          | 0/623 [00:00<?, ?it/s]"
      ]
     },
     "metadata": {},
     "output_type": "display_data"
    },
    {
     "name": "stdout",
     "output_type": "stream",
     "text": [
      "0/623 are skipped\n",
      "quality score file save to ./data/sample_quality_score_ours.txt\n"
     ]
    }
   ],
   "source": [
    "fileList = [\n",
    "    './data/sample.xyz'\n",
    "]\n",
    "\n",
    "jet_order = 3 # defacult is 3\n",
    "searchPointSize = 256 # default is 256\n",
    "gridnum_test_0 = int (np.around(np.sqrt( searchPointSize) - 1)) # 15\n",
    "gridnum_test_1 = gridnum_test_0 - 2 # 13\n",
    "gridnum_test_2 = gridnum_test_0 - 4 # 11\n",
    "print (f'searchPointSize:{searchPointSize}, gridnum_test_0:{gridnum_test_0}')\n",
    "\n",
    "stepName = [None] * 7\n",
    "for filenameIndice, filename in enumerate(tqdm(fileList)):\n",
    "    filename = filename[:filename.find('.xyz')]\n",
    "    print (f'#{filenameIndice}/{len(fileList)} filename: {filename}')\n",
    "    data = np.loadtxt(f'{filename}_order{jet_order}_normal_beta.txt')\n",
    "    # x y z nx ny nz betas (0 - 9)\n",
    "    rawPoints = data[:, 0:3]\n",
    "    normals = data[:, 3:6]\n",
    "    betas = data[:, 6:]\n",
    "    print (f'rawPoints data format: {rawPoints.shape}')\n",
    "    print (f'normals data format: {normals.shape}')\n",
    "    print (f'betas data format: {betas.shape}')\n",
    "\n",
    "    unitPoints = preprocess(rawPoints)\n",
    "    resList, totalTime = [], []\n",
    "    kdtree = cKDTree(unitPoints, leafsize = 10, balanced_tree = False)\n",
    "\n",
    "    # evenly sampled by 12\n",
    "    skipNum, totalN = 12, unitPoints.shape[0]\n",
    "    sampledIndices = np.linspace(0, totalN - 1, int(totalN / skipNum)).astype(int)\n",
    "    \n",
    "    # sampledIndices = np.array_split(sampledIndices, 5)[0]\n",
    "    print (f'{len(sampledIndices)} points will be calculated, it takes {100*np.around(len(sampledIndices) / totalN, 3)}%')\n",
    "\n",
    "    alphaList, skipIndices = [], []\n",
    "    for indice, i in enumerate(tqdm(sampledIndices)):\n",
    "        # 1. Searching neighbor points\n",
    "        stepName[1] = 'Searching neighbor points'\n",
    "        timeStart = time.time()\n",
    "        partPoints, _, rad = processPart (kdtree, i, unitPoints, searchPointSize)\n",
    "        partPoints = partPoints.numpy().T\n",
    "        alpha, _ = averageDisPoints(partPoints, searchK = 2)\n",
    "        # np.savetxt('./tmpBug.xyz', partPoints, fmt='%1.6f')\n",
    "        timeSeg1 = time.time() - timeStart\n",
    "        timeStart = time.time()\n",
    "        \n",
    "        # 2. Obtain Fitting Results\n",
    "        stepName[2] = 'Obtain Fitting Results'\n",
    "        n_est = normals[i, :]\n",
    "        beta =  betas[i, :]\n",
    "        # print (f'#{i} p:{p} n_est: {n_est} beta:{beta}')\n",
    "        timeSeg2 = time.time() - timeStart\n",
    "        timeStart = time.time()\n",
    "\n",
    "        # 3. Generate Points by the Fitting Results\n",
    "        stepName[3] = 'Generate Points by the Fitting Results'\n",
    "        minP, maxP = bounding_box_naive(partPoints)\n",
    "        synPartPoints = generateDataByParameter(beta, minP[0], maxP[0], minP[1], maxP[1], jet_order = jet_order)\n",
    "        tree = cKDTree(synPartPoints, leafsize = 10, balanced_tree=False)\n",
    "        nearestPoints, nearestIndex, nearestDis = [], [], []\n",
    "        for pp in partPoints:\n",
    "            dd, ii = tree.query(pp, k=1)\n",
    "            nearestPoints.append(synPartPoints[ii])\n",
    "            nearestIndex.append(ii)\n",
    "            nearestDis.append(dd)\n",
    "        if np.mean(nearestDis) > 1.5 * alpha:\n",
    "            skipIndices.append(i)\n",
    "            continue\n",
    "        nearestPoints = np.asarray(nearestPoints)\n",
    "        # print (f'info: nearestPoints: {nearestPoints.shape}')\n",
    "        # print (f'nearestPoints mrse: {np.sqrt(np.sum((nearestPoints - partPoints) * (nearestPoints - partPoints)))}')\n",
    "        # #Original，generated Points and the nearest points on the generated points\n",
    "        # showPoints ([partPoints, synPartPoints, nearestPoints])\n",
    "        # showPoints ([partPoints, nearestPoints])\n",
    "        # break\n",
    "        timeSeg3 = time.time() - timeStart\n",
    "        timeStart = time.time()\n",
    "\n",
    "        # 4. Triangulate the Generated Points\n",
    "        stepName[4] = 'Triangulate the Generated Point'\n",
    "        tri = Delaunay(synPartPoints[:, 0:2])\n",
    "        faces = tri.simplices\n",
    "        # showMesh(synPartPoints, faces)\n",
    "        timeSeg4 = time.time() - timeStart\n",
    "        timeStart = time.time()\n",
    "        \n",
    "        \n",
    "        # 5. Calculate the Distance and Angular \n",
    "        stepName[5] = 'Calculate the Distance and Angular'\n",
    "        distances = calculateDistancesMesh(synPartPoints, faces,\n",
    "                                   np.array(nearestIndex[:1]), np.array(nearestIndex[1:]),\n",
    "                                   showPath = False)\n",
    "        vecs = nearestPoints[1:] - nearestPoints[0]\n",
    "        pThetas = calculateAngleOnSurface(vecs, n_est)\n",
    "\n",
    "        distributionPoints = pol2cart(distances, pThetas)\n",
    "        meanDistributionP = np.mean(distributionPoints, axis = 0)\n",
    "        # plt.scatter(distributionPoints[:, 0], distributionPoints[:, 1], s = 2)\n",
    "        # plt.scatter(meanDistributionP[0], meanDistributionP[1], s = 20, c='r')\n",
    "        # plt.scatter(0, 0, s = 20, c='g')\n",
    "        # plt.annotate('', xy=(meanDistributionP[0], meanDistributionP[1]), \n",
    "        #              xytext=(0,0), arrowprops={'width': 2, 'headwidth': 8, 'headlength': 5})\n",
    "        # plt.show()\n",
    "        timeSeg5 = time.time() - timeStart\n",
    "        timeStart = time.time()\n",
    "\n",
    "        # 6. Calculate the Quality of Current Point\n",
    "        stepName[6] = 'Calculate the Quality of Current Point'\n",
    "        qualityListPerPoint = []\n",
    "        for gridNum in [gridnum_test_0, gridnum_test_1, gridnum_test_2]: # Here calculate 3 grid-based quality\n",
    "            minX, maxX = np.min(distributionPoints[:, 0]), np.max(distributionPoints[:, 0])\n",
    "            minY, maxY = np.min(distributionPoints[:, 1]), np.max(distributionPoints[:, 1])\n",
    "            width, height = (maxX - minX) / gridNum, (maxY - minY) / gridNum\n",
    "            # transform all distributed points\n",
    "            MFrame = np.array([\n",
    "                [1, 0, -minX],\n",
    "                [0, 1, -minY],\n",
    "                [0, 0, 1]]\n",
    "            ).reshape(3,3)\n",
    "            grids = np.zeros((gridNum,gridNum))\n",
    "            gridPoints = np.concatenate([distributionPoints.astype(np.float64), \n",
    "                                     np.ones((distributionPoints.shape[0], 1))], axis = 1)\n",
    "            t_gridPoints = np.dot(MFrame, gridPoints.T).T\n",
    "            for gp in t_gridPoints:\n",
    "                gx, gy = gp[0], gp[1]\n",
    "                gridRow = gridNum - 1  if int(gy/height) >= gridNum else int(gy/height)\n",
    "                gridCol = gridNum - 1 if int(gx/width) >= gridNum else int(gx/width)\n",
    "                grids[gridRow, gridCol] += 1\n",
    "            timeSeg6 = time.time() - timeStart\n",
    "            timeStart = time.time()\n",
    "            hull = ConvexHull(gridPoints[:, 0:2])\n",
    "            nonZeroRatio = np.count_nonzero(grids) / (hull.volume / (width * height))\n",
    "            nonZeroRatio = 1 if nonZeroRatio > 1 else nonZeroRatio # [0,1] # offset, can be ignored here\n",
    "            distance = LA.norm(meanDistributionP) \n",
    "            quality = nonZeroRatio * (alpha) # alpha is the average value of nearest distances in 'partPoitns'\n",
    "            qualityListPerPoint.append(1/quality)\n",
    "            # draw_mapping_result(grids, hull, minX, maxX, minY, maxY, width, height, gridPoints)\n",
    "        resList.append(qualityListPerPoint)\n",
    "        timeSeg6 = time.time() - timeStart\n",
    "        timeStart = time.time()\n",
    "        totalTime.append([timeSeg1, timeSeg2, timeSeg3, timeSeg4, timeSeg5, timeSeg6])\n",
    "        \n",
    "    arrResList = np.array(resList) # should be -1 x 3\n",
    "    print (f'{len(skipIndices)}/{len(sampledIndices)} are skipped')\n",
    "    remainIndices = list(set(sampledIndices).difference(set(skipIndices)))\n",
    "    tmp = f'{filename}_quality_score_ours.txt'\n",
    "    np.savetxt(tmp, np.concatenate([rawPoints[remainIndices], arrResList], axis = 1) , fmt='%1.6f')\n",
    "    print (f'quality score file save to {tmp}')\n"
   ]
  },
  {
   "cell_type": "markdown",
   "id": "c039bfd7-b2aa-4f92-b99e-a00992fc5a4c",
   "metadata": {},
   "source": [
    "# 2. Results Analysis"
   ]
  },
  {
   "cell_type": "code",
   "execution_count": 10,
   "id": "b87c2beb",
   "metadata": {},
   "outputs": [
    {
     "name": "stdout",
     "output_type": "stream",
     "text": [
      "[10.014192    7.47445135  6.03002456]\n",
      "[0.0850296  0.06486308 0.05264569]\n",
      "[117.77301336 115.23429509 114.53975302]\n"
     ]
    }
   ],
   "source": [
    "stdValue, meanValue = np.std(arrResList, axis = 0), np.mean(arrResList, axis = 0)\n",
    "print (f'{stdValue}\\n{stdValue/meanValue}\\n{meanValue}')"
   ]
  },
  {
   "cell_type": "code",
   "execution_count": 11,
   "id": "40b545a9",
   "metadata": {},
   "outputs": [
    {
     "data": {
      "image/png": "[encoded data removed]",
      "text/plain": [
       "<Figure size 640x480 with 1 Axes>"
      ]
     },
     "metadata": {},
     "output_type": "display_data"
    },
    {
     "name": "stdout",
     "output_type": "stream",
     "text": [
      "0 : Searching neighbor points (5.0%)\n",
      "1 : Obtain Fitting Results (0.0%)\n",
      "2 : Generate Points by the Fitting Results (5.0%)\n",
      "3 : Triangulate the Generated Point (13.0%)\n",
      "4 : Calculate the Distance and Angular (76.0%)\n",
      "5 : Calculate the Quality of Current Point (1.0%)\n"
     ]
    }
   ],
   "source": [
    "meanList = np.mean(np.asarray(totalTime), axis=0)\n",
    "meanList = meanList / np.sum(meanList)\n",
    "\n",
    "stepIndex = ['1', '2', '3', '4', '5', '6']\n",
    "plt.bar(stepIndex, meanList)\n",
    "plt.show()\n",
    "\n",
    "for i, v in enumerate(stepIndex):\n",
    "    print (f'{i} : {stepName[i+1]} ({100*np.around(meanList[i], 2)}%)')"
   ]
  },
  {
   "cell_type": "code",
   "execution_count": null,
   "id": "7ba4589d-677b-42fd-802e-78cdf7671d9e",
   "metadata": {},
   "outputs": [],
   "source": []
  }
 ],
 "metadata": {
  "kernelspec": {
   "display_name": "deepfit",
   "language": "python",
   "name": "deepfit"
  },
  "language_info": {
   "codemirror_mode": {
    "name": "ipython",
    "version": 3
   },
   "file_extension": ".py",
   "mimetype": "text/x-python",
   "name": "python",
   "nbconvert_exporter": "python",
   "pygments_lexer": "ipython3",
   "version": "3.7.3"
  }
 },
 "nbformat": 4,
 "nbformat_minor": 5
}
